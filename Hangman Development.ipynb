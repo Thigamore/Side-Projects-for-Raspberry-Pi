{
 "cells": [
  {
   "cell_type": "code",
   "execution_count": 2,
   "metadata": {},
   "outputs": [],
   "source": [
    "from IPython.display import clear_output\n",
    "def Rules_and_Word():\n",
    "    global hangman_counter\n",
    "    hangman_counter = 0\n",
    "    global original_word\n",
    "    global new_word\n",
    "    new_word = []\n",
    "    print('This is a game of Hangman')\n",
    "    original_word = str(input('Enter the word you want to guess, or leave it blank to have the default chosen(All in lowercase): '))\n",
    "    if original_word == '':\n",
    "        original_word = 'the legend of zelda'\n",
    "    for i,letter in enumerate(original_word):\n",
    "        if original_word[i] == ' ':\n",
    "            new_word.append(' ')\n",
    "        else:\n",
    "            new_word.append('_')\n",
    "    clear_output()\n",
    "    print(str(new_word))"
   ]
  },
  {
   "cell_type": "code",
   "execution_count": 3,
   "metadata": {},
   "outputs": [
    {
     "name": "stdout",
     "output_type": "stream",
     "text": [
      "['_', '_', '_', ' ', '_', '_', '_', '_', '_', '_', ' ', '_', '_', ' ', '_', '_', '_', '_', '_']\n"
     ]
    }
   ],
   "source": [
    "Rules_and_Word()"
   ]
  },
  {
   "cell_type": "code",
   "execution_count": 53,
   "metadata": {},
   "outputs": [],
   "source": [
    "def Check_for_Letter():\n",
    "    global new_word\n",
    "    global hangman_counter\n",
    "    guess = input('Please enter your guess: ')\n",
    "    correct_guess = 0\n",
    "    for i,letter in  enumerate(original_word):\n",
    "        if original_word[i] == guess:\n",
    "            print('You have guessed correctly.')\n",
    "            new_word[i] = guess\n",
    "            correct_guess = 1\n",
    "            pass\n",
    "        elif guess == ' ' or guess == '':\n",
    "            print('Please enter a letter')\n",
    "            break\n",
    "    if correct_guess == 0:\n",
    "        print('Your guess is wrong.')\n",
    "        hangman_counter= hangman_counter + 1"
   ]
  },
  {
   "cell_type": "code",
   "execution_count": 48,
   "metadata": {},
   "outputs": [],
   "source": [
    "def hangman_check():\n",
    "    global lost\n",
    "    global Continue\n",
    "    if hangman_counter == 0:\n",
    "        pass\n",
    "    elif hangman_counter == 1:\n",
    "        print(' ______')\n",
    "    elif hangman_counter == 2:\n",
    "        print('    |   \\n    |   \\n    |   \\n ______')\n",
    "    elif hangman_counter == 3:\n",
    "        print(' ____\\n     |   \\n     |   \\n     |   \\n ______')\n",
    "    elif hangman_counter == 4:\n",
    "        print(' ____\\n    \\|   \\n     |   \\n     |   \\n ______')\n",
    "    elif hangman_counter == 5:\n",
    "        print(' ____\\n |  \\|   \\n     |   \\n     |   \\n ______')\n",
    "    elif hangman_counter == 6:\n",
    "        print(' ____\\n |  \\|   \\n O   |   \\n     |   \\n ______')\n",
    "    elif hangman_counter == 7:\n",
    "        print(' ____\\n |  \\|   \\n O   |   \\n |   |   \\n ______')\n",
    "    elif hangman_counter == 8:\n",
    "        print(' ____\\n |  \\|   \\n O   |   \\n-|   |   \\n ______')\n",
    "    elif hangman_counter == 9:\n",
    "        print(' ____\\n |  \\|   \\n O   |   \\n-|-  |   \\n ______')\n",
    "    elif hangman_counter == 10:\n",
    "        print(' ____\\n |  \\|   \\n O   |   \\n-|-  |   \\n/ _____')\n",
    "    elif hangman_counter == 11:\n",
    "        print(' ____\\n |  \\|   \\n O   |   \\n-|-  |   \\n/ \\____')\n",
    "        Continue = input('You lost.\\nWould you like to play again?(Yes or No): ')\n",
    "        if Continue == 'Yes':\n",
    "            print(\"Ok, we'll set you right up!\")\n",
    "            Hangman()\n",
    "        if Continue == 'No':\n",
    "            print(\"We hope to see you soon!\")"
   ]
  },
  {
   "cell_type": "code",
   "execution_count": 49,
   "metadata": {},
   "outputs": [],
   "source": [
    "def Hangman():\n",
    "    Rules_and_Word()\n",
    "    hangman_counter = 0\n",
    "    global Continue\n",
    "    Continue = 'Yes'\n",
    "    while Continue == \"Yes\":\n",
    "        Check_for_Letter()\n",
    "        display()\n",
    "        check_if_won()"
   ]
  },
  {
   "cell_type": "code",
   "execution_count": 50,
   "metadata": {},
   "outputs": [],
   "source": [
    "def display():\n",
    "    clear_output()\n",
    "    hangman_check()\n",
    "    print(new_word)"
   ]
  },
  {
   "cell_type": "code",
   "execution_count": 51,
   "metadata": {},
   "outputs": [],
   "source": [
    "def check_if_won():\n",
    "    global Continue\n",
    "    if str(new_word) == str(list(original_word)):\n",
    "        Continue = input(f'You guessed {original_word} correctly!\\nWould you like to play again?(Yes or No): ')\n",
    "        if Continue == 'Yes':\n",
    "            print(\"Ok, we'll set you right up!\")\n",
    "            Hangman()\n",
    "        if Continue == 'No':\n",
    "            print(\"We hope to see you soon!\")\n",
    "    else:\n",
    "        pass"
   ]
  },
  {
   "cell_type": "code",
   "execution_count": null,
   "metadata": {},
   "outputs": [
    {
     "name": "stdout",
     "output_type": "stream",
     "text": [
      " ____\n",
      " |  \\|   \n",
      " O   |   \n",
      "-|-  |   \n",
      "/ \\____\n"
     ]
    }
   ],
   "source": [
    "Hangman()"
   ]
  },
  {
   "cell_type": "code",
   "execution_count": null,
   "metadata": {},
   "outputs": [],
   "source": []
  }
 ],
 "metadata": {
  "kernelspec": {
   "display_name": "Python 3",
   "language": "python",
   "name": "python3"
  },
  "language_info": {
   "codemirror_mode": {
    "name": "ipython",
    "version": 3
   },
   "file_extension": ".py",
   "mimetype": "text/x-python",
   "name": "python",
   "nbconvert_exporter": "python",
   "pygments_lexer": "ipython3",
   "version": "3.7.3"
  }
 },
 "nbformat": 4,
 "nbformat_minor": 2
}
